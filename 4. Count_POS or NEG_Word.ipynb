{
 "cells": [
  {
   "cell_type": "markdown",
   "id": "66f03360",
   "metadata": {
    "toc": true
   },
   "source": [
    "<h1>Table of Contents<span class=\"tocSkip\"></span></h1>\n",
    "<div class=\"toc\"><ul class=\"toc-item\"><li><span><a href=\"#Setting\" data-toc-modified-id=\"Setting-1\"><span class=\"toc-item-num\">1&nbsp;&nbsp;</span>Setting</a></span></li></ul></div>"
   ]
  },
  {
   "cell_type": "markdown",
   "id": "7c738c66",
   "metadata": {},
   "source": [
    "## Setting"
   ]
  },
  {
   "cell_type": "code",
   "execution_count": 4,
   "id": "7d3c4b2d",
   "metadata": {},
   "outputs": [],
   "source": [
    "import numpy as np\n",
    "import pandas as pd\n",
    "import os\n",
    "import matplotlib.pyplot as plt\n",
    "import seaborn as sns\n",
    "import re\n",
    "import demoji\n",
    "from konlpy.tag import Okt\n",
    "from collections import Counter\n",
    "import kss\n",
    "from tqdm import tqdm\n",
    "from sklearn.feature_extraction.text import CountVectorizer\n",
    "from hanspell import spell_checker # 네이버 맞춤법 검사기 파이썬용\n",
    "import itertools\n",
    "from kiwipiepy import Kiwi\n",
    "import openai\n",
    "import time\n",
    "import datetime\n",
    "import csv\n",
    "import pymssql\n",
    "import sqlalchemy as sa\n",
    "from sqlalchemy.exc import SQLAlchemyError\n",
    "from sqlalchemy import insert\n",
    "from sqlalchemy import create_engine\n",
    "from sqlalchemy import MetaData, Table, Column, Integer, String\n",
    "\n",
    "kiwi = Kiwi()\n",
    "okt = Okt()\n",
    "\n",
    "import warnings\n",
    "warnings.filterwarnings(action='ignore')"
   ]
  },
  {
   "cell_type": "code",
   "execution_count": 5,
   "id": "e57ac95c",
   "metadata": {},
   "outputs": [],
   "source": [
    "# DB 접근 정보\n",
    "connection_uri = sa.engine.url.URL.create(\n",
    "    \"mssql+pyodbc\",\n",
    "    username=\"BI_APPUSER\",\n",
    "    password=\"dkagh1234.\",\n",
    "    host=\"KRVAEEISDBSQL\",\n",
    "    database=\"AUD\", \n",
    "    query={\"driver\": \"ODBC Driver 17 for SQL Server\"},\n",
    "    )\n",
    "# ESG102PC295\n",
    "engine = sa.create_engine(connection_uri, fast_executemany=True)\n",
    "conn = engine.connect()"
   ]
  },
  {
   "cell_type": "code",
   "execution_count": 6,
   "id": "acf1904c",
   "metadata": {},
   "outputs": [],
   "source": [
    "raw_review = pd.read_sql_table('bi_hotel_raw_review', conn)\n",
    "review_preprocessed = pd.read_sql_table('bi_hotel_review_preprocessed', conn)\n",
    "gpt_answer = pd.read_sql_table('bi_hotel_review_gpt_answer', conn)"
   ]
  },
  {
   "cell_type": "code",
   "execution_count": 7,
   "id": "e487c173",
   "metadata": {},
   "outputs": [],
   "source": [
    "df = pd.merge(raw_review, review_preprocessed,on='review_index' )\n",
    "df = pd.merge(df,gpt_answer,on= 'checked_spelling')"
   ]
  },
  {
   "cell_type": "code",
   "execution_count": 45,
   "id": "2e0823f3",
   "metadata": {},
   "outputs": [],
   "source": [
    "# 리스트 값 카운트 긍정 단어, 부정 단어 \n",
    "def word_counter(word_df):\n",
    "    # null type 제외하고 다시 리스트화시킴\n",
    "    word_df = word_df[~word_df['pos_word_stem'].isnull()]['pos_word_stem'].apply(lambda x:x.split(','))\n",
    "    word_list = list(zip(word_df))\n",
    "    word_list = list(itertools.chain(*word_list)) # 이중으로 쌓여있는 구조라 두번 flatten 작업이 필요함\n",
    "    word_list = list(itertools.chain(*word_list))\n",
    "    \n",
    "    counter = Counter(word_list)\n",
    "    return counter.most_common()"
   ]
  },
  {
   "cell_type": "code",
   "execution_count": 47,
   "id": "3d130042",
   "metadata": {},
   "outputs": [
    {
     "data": {
      "text/plain": [
       "[('', 8),\n",
       " ('조식', 8),\n",
       " ('해피아워', 6),\n",
       " ('컨디션', 5),\n",
       " ('친절하다', 5),\n",
       " ('최고', 4),\n",
       " ('괜찮다', 4),\n",
       " ('깨끗하다', 4),\n",
       " ('라운지', 4),\n",
       " ('편하다', 4),\n",
       " ('넓다', 3),\n",
       " ('만족스럽다', 3),\n",
       " ('좋아하다', 3),\n",
       " ('가능', 3),\n",
       " ('상태', 3),\n",
       " ('위치', 3),\n",
       " ('한강', 3),\n",
       " ('따뜻하다', 2),\n",
       " ('먹다', 2),\n",
       " ('브룸', 2),\n",
       " ('조절', 2),\n",
       " ('야경', 2),\n",
       " ('깔끔하다', 2),\n",
       " ('객실', 2),\n",
       " ('업그레이드', 2),\n",
       " ('아이', 1),\n",
       " ('자기', 1),\n",
       " ('큐티브', 1),\n",
       " ('성비', 1),\n",
       " ('커피차', 1),\n",
       " ('쿠키', 1),\n",
       " ('무제한', 1),\n",
       " ('와인', 1),\n",
       " ('맥주', 1),\n",
       " ('칵테일', 1),\n",
       " ('뷔페', 1),\n",
       " ('젝티', 1),\n",
       " ('결혼기념일', 1),\n",
       " ('여행', 1),\n",
       " ('잘나오다', 1),\n",
       " ('칭찬', 1),\n",
       " ('쉬다', 1),\n",
       " ('넷플릭스', 1),\n",
       " ('유튜브', 1),\n",
       " ('티타임', 1),\n",
       " ('코스', 1),\n",
       " ('이용', 1),\n",
       " ('가성', 1),\n",
       " ('시원하다', 1),\n",
       " ('관리', 1),\n",
       " ('인테리어', 1),\n",
       " ('맛집', 1),\n",
       " ('코엑스', 1),\n",
       " ('탁월하다', 1),\n",
       " ('선택', 1),\n",
       " ('캐릭터', 1),\n",
       " ('벽지', 1),\n",
       " ('바닥', 1),\n",
       " ('텐트', 1),\n",
       " ('딸아이', 1),\n",
       " ('춥다', 1),\n",
       " ('냉방', 1),\n",
       " ('세기', 1),\n",
       " ('키즈', 1),\n",
       " ('귀엽다', 1),\n",
       " ('족편', 1),\n",
       " ('안좋다', 1),\n",
       " ('큐티', 1),\n",
       " ('예쁘다', 1),\n",
       " ('만족하다', 1),\n",
       " ('사용', 1),\n",
       " ('가격', 1),\n",
       " ('대비', 1),\n",
       " ('욕조', 1),\n",
       " ('비데', 1),\n",
       " ('간혹', 1),\n",
       " ('맛있다', 1),\n",
       " ('직원', 1),\n",
       " ('세심', 1),\n",
       " ('챙기다', 1),\n",
       " ('자다', 1),\n",
       " ('청결', 1),\n",
       " ('강력', 1),\n",
       " ('추천', 1),\n",
       " ('가깝다', 1),\n",
       " ('현대', 1),\n",
       " ('청결하다', 1),\n",
       " ('모델링', 1),\n",
       " ('친절', 1),\n",
       " ('여유', 1),\n",
       " ('조용하다', 1),\n",
       " ('상관없다', 1),\n",
       " ('빠르다', 1),\n",
       " ('처리', 1),\n",
       " ('요청', 1),\n",
       " ('맞다', 1),\n",
       " ('마음', 1),\n",
       " ('지내다', 1),\n",
       " ('크다', 1),\n",
       " ('강뷰', 1),\n",
       " ('바라보다', 1)]"
      ]
     },
     "execution_count": 47,
     "metadata": {},
     "output_type": "execute_result"
    }
   ],
   "source": [
    "check_df = df.loc[(df['brunch']=='여의도') & (df['객실']==1)& (df['w_date']>='2022-01-01') & (df['w_date'] <='2023-03-01')]\n",
    "word_counter(check_df)"
   ]
  },
  {
   "cell_type": "code",
   "execution_count": null,
   "id": "07a25221",
   "metadata": {},
   "outputs": [],
   "source": []
  },
  {
   "cell_type": "code",
   "execution_count": null,
   "id": "d4c3f362",
   "metadata": {},
   "outputs": [],
   "source": []
  },
  {
   "cell_type": "code",
   "execution_count": null,
   "id": "34bec894",
   "metadata": {},
   "outputs": [],
   "source": []
  },
  {
   "cell_type": "code",
   "execution_count": null,
   "id": "7c6fedd8",
   "metadata": {},
   "outputs": [],
   "source": []
  },
  {
   "cell_type": "code",
   "execution_count": null,
   "id": "c76bad5a",
   "metadata": {},
   "outputs": [],
   "source": [
    "\n",
    "## Tableau 용 \n",
    "def get_output_schema():       \n",
    "    return pd.DataFrame({\n",
    "        'Word' : prep_string(),\n",
    "        'Count' : prep_int()\n",
    "    })\n",
    "\n",
    "def word_counter(word_col):\n",
    "    word_list = list(zip(word_col))\n",
    "    word_list = list(itertools.chain(*word_list)) \n",
    "    \n",
    "    counter = Counter(word_list)\n",
    "    result =  pd.DataFrame(counter.most_common(), columns=['Word', 'Count'])\n",
    "    return pd.DataFrame({\n",
    "        'Word' : result['Word']\n",
    "        'Count':result['Count']\n",
    "    })"
   ]
  }
 ],
 "metadata": {
  "kernelspec": {
   "display_name": "Python 3 (ipykernel)",
   "language": "python",
   "name": "python3"
  },
  "language_info": {
   "codemirror_mode": {
    "name": "ipython",
    "version": 3
   },
   "file_extension": ".py",
   "mimetype": "text/x-python",
   "name": "python",
   "nbconvert_exporter": "python",
   "pygments_lexer": "ipython3",
   "version": "3.9.12"
  },
  "toc": {
   "base_numbering": 1,
   "nav_menu": {},
   "number_sections": true,
   "sideBar": true,
   "skip_h1_title": true,
   "title_cell": "Table of Contents",
   "title_sidebar": "Contents",
   "toc_cell": true,
   "toc_position": {
    "height": "calc(100% - 180px)",
    "left": "10px",
    "top": "150px",
    "width": "339.091px"
   },
   "toc_section_display": true,
   "toc_window_display": true
  }
 },
 "nbformat": 4,
 "nbformat_minor": 5
}
